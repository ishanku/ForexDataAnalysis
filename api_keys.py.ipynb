# Forex API Key
forex_api_key = "db56e416e100e59efb172517c271a05a"