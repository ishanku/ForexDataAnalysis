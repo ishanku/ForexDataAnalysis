{
 "nbformat": 4,
 "nbformat_minor": 2,
 "metadata": {
  "language_info": {
   "name": "python",
   "codemirror_mode": {
    "name": "ipython",
    "version": 3
   },
   "version": "3.7.4-final"
  },
  "orig_nbformat": 2,
  "file_extension": ".py",
  "mimetype": "text/x-python",
  "name": "python",
  "npconvert_exporter": "python",
  "pygments_lexer": "ipython3",
  "version": 3,
  "kernelspec": {
   "name": "python3",
   "display_name": "Python 3"
  }
 },
 "cells": [
  {
   "cell_type": "code",
   "execution_count": 28,
   "metadata": {},
   "outputs": [],
   "source": [
    "import pandas as pd\n",
    "from sqlalchemy import create_engine"
   ]
  },
  {
   "cell_type": "code",
   "execution_count": 29,
   "metadata": {},
   "outputs": [
    {
     "data": {
      "text/html": "<div>\n<style scoped>\n    .dataframe tbody tr th:only-of-type {\n        vertical-align: middle;\n    }\n\n    .dataframe tbody tr th {\n        vertical-align: top;\n    }\n\n    .dataframe thead th {\n        text-align: right;\n    }\n</style>\n<table border=\"1\" class=\"dataframe\">\n  <thead>\n    <tr style=\"text-align: right;\">\n      <th></th>\n      <th>id</th>\n      <th>Date</th>\n      <th>AUD</th>\n      <th>EUR</th>\n      <th>NZD</th>\n      <th>GBP</th>\n      <th>BRL</th>\n      <th>CAD</th>\n      <th>CNY</th>\n      <th>HKD</th>\n      <th>...</th>\n      <th>SGD</th>\n      <th>DKK</th>\n      <th>JPY</th>\n      <th>MYR</th>\n      <th>NOK</th>\n      <th>SEK</th>\n      <th>LKR</th>\n      <th>CHF</th>\n      <th>TWD</th>\n      <th>THB</th>\n    </tr>\n  </thead>\n  <tbody>\n    <tr>\n      <td>0</td>\n      <td>0</td>\n      <td>1/3/2000</td>\n      <td>1.5172</td>\n      <td>0.9847</td>\n      <td>1.9033</td>\n      <td>0.6146</td>\n      <td>1.8050</td>\n      <td>1.4465</td>\n      <td>8.2798</td>\n      <td>7.7765</td>\n      <td>...</td>\n      <td>1.6563</td>\n      <td>7.3290</td>\n      <td>101.70</td>\n      <td>3.8</td>\n      <td>7.964</td>\n      <td>8.4430</td>\n      <td>72.30</td>\n      <td>1.5808</td>\n      <td>31.38</td>\n      <td>36.97</td>\n    </tr>\n    <tr>\n      <td>1</td>\n      <td>1</td>\n      <td>1/4/2000</td>\n      <td>1.5239</td>\n      <td>0.9700</td>\n      <td>1.9238</td>\n      <td>0.6109</td>\n      <td>1.8405</td>\n      <td>1.4518</td>\n      <td>8.2799</td>\n      <td>7.7775</td>\n      <td>...</td>\n      <td>1.6535</td>\n      <td>7.2180</td>\n      <td>103.09</td>\n      <td>3.8</td>\n      <td>7.934</td>\n      <td>8.3600</td>\n      <td>72.65</td>\n      <td>1.5565</td>\n      <td>30.60</td>\n      <td>37.13</td>\n    </tr>\n    <tr>\n      <td>2</td>\n      <td>2</td>\n      <td>1/5/2000</td>\n      <td>1.5267</td>\n      <td>0.9676</td>\n      <td>1.9339</td>\n      <td>0.6092</td>\n      <td>1.8560</td>\n      <td>1.4518</td>\n      <td>8.2798</td>\n      <td>7.7780</td>\n      <td>...</td>\n      <td>1.6560</td>\n      <td>7.2080</td>\n      <td>103.77</td>\n      <td>3.8</td>\n      <td>7.935</td>\n      <td>8.3530</td>\n      <td>72.95</td>\n      <td>1.5526</td>\n      <td>30.80</td>\n      <td>37.10</td>\n    </tr>\n    <tr>\n      <td>3</td>\n      <td>3</td>\n      <td>1/6/2000</td>\n      <td>1.5291</td>\n      <td>0.9686</td>\n      <td>1.9436</td>\n      <td>0.6070</td>\n      <td>1.8400</td>\n      <td>1.4571</td>\n      <td>8.2797</td>\n      <td>7.7785</td>\n      <td>...</td>\n      <td>1.6655</td>\n      <td>7.2125</td>\n      <td>105.19</td>\n      <td>3.8</td>\n      <td>7.940</td>\n      <td>8.3675</td>\n      <td>72.95</td>\n      <td>1.5540</td>\n      <td>31.75</td>\n      <td>37.62</td>\n    </tr>\n    <tr>\n      <td>4</td>\n      <td>4</td>\n      <td>1/7/2000</td>\n      <td>1.5272</td>\n      <td>0.9714</td>\n      <td>1.9380</td>\n      <td>0.6104</td>\n      <td>1.8310</td>\n      <td>1.4505</td>\n      <td>8.2794</td>\n      <td>7.7783</td>\n      <td>...</td>\n      <td>1.6625</td>\n      <td>7.2285</td>\n      <td>105.17</td>\n      <td>3.8</td>\n      <td>7.966</td>\n      <td>8.4150</td>\n      <td>73.15</td>\n      <td>1.5623</td>\n      <td>30.85</td>\n      <td>37.30</td>\n    </tr>\n  </tbody>\n</table>\n<p>5 rows × 24 columns</p>\n</div>",
      "text/plain": "   id      Date     AUD     EUR     NZD     GBP     BRL     CAD     CNY  \\\n0   0  1/3/2000  1.5172  0.9847  1.9033  0.6146  1.8050  1.4465  8.2798   \n1   1  1/4/2000  1.5239  0.9700  1.9238  0.6109  1.8405  1.4518  8.2799   \n2   2  1/5/2000  1.5267  0.9676  1.9339  0.6092  1.8560  1.4518  8.2798   \n3   3  1/6/2000  1.5291  0.9686  1.9436  0.6070  1.8400  1.4571  8.2797   \n4   4  1/7/2000  1.5272  0.9714  1.9380  0.6104  1.8310  1.4505  8.2794   \n\n      HKD  ...     SGD     DKK     JPY  MYR    NOK     SEK    LKR     CHF  \\\n0  7.7765  ...  1.6563  7.3290  101.70  3.8  7.964  8.4430  72.30  1.5808   \n1  7.7775  ...  1.6535  7.2180  103.09  3.8  7.934  8.3600  72.65  1.5565   \n2  7.7780  ...  1.6560  7.2080  103.77  3.8  7.935  8.3530  72.95  1.5526   \n3  7.7785  ...  1.6655  7.2125  105.19  3.8  7.940  8.3675  72.95  1.5540   \n4  7.7783  ...  1.6625  7.2285  105.17  3.8  7.966  8.4150  73.15  1.5623   \n\n     TWD    THB  \n0  31.38  36.97  \n1  30.60  37.13  \n2  30.80  37.10  \n3  31.75  37.62  \n4  30.85  37.30  \n\n[5 rows x 24 columns]"
     },
     "execution_count": 29,
     "metadata": {},
     "output_type": "execute_result"
    }
   ],
   "source": [
    "# Extract CSVs into DataFrames\n",
    "forexhistorical_file = \"../Resources/final_historical.csv\"\n",
    "forex_historic_df = pd.read_csv(forexhistorical_file)\n",
    "forex_historic_df.head()"
   ]
  },
  {
   "cell_type": "code",
   "execution_count": 30,
   "metadata": {},
   "outputs": [
    {
     "data": {
      "text/html": "<div>\n<style scoped>\n    .dataframe tbody tr th:only-of-type {\n        vertical-align: middle;\n    }\n\n    .dataframe tbody tr th {\n        vertical-align: top;\n    }\n\n    .dataframe thead th {\n        text-align: right;\n    }\n</style>\n<table border=\"1\" class=\"dataframe\">\n  <thead>\n    <tr style=\"text-align: right;\">\n      <th></th>\n      <th>id</th>\n      <th>Date</th>\n      <th>AUD</th>\n      <th>EUR</th>\n      <th>NZD</th>\n      <th>BRL</th>\n      <th>CAD</th>\n      <th>CNY</th>\n      <th>HKD</th>\n      <th>INR</th>\n      <th>...</th>\n      <th>DKK</th>\n      <th>JPY</th>\n      <th>MYR</th>\n      <th>NOK</th>\n      <th>SEK</th>\n      <th>GBP</th>\n      <th>LKR</th>\n      <th>CHF</th>\n      <th>TWD</th>\n      <th>THB</th>\n    </tr>\n  </thead>\n  <tbody>\n    <tr>\n      <td>0</td>\n      <td>8874</td>\n      <td>2020-01-01</td>\n      <td>1.424690</td>\n      <td>0.891401</td>\n      <td>1.484530</td>\n      <td>4.019699</td>\n      <td>1.297550</td>\n      <td>6.963200</td>\n      <td>7.792750</td>\n      <td>71.131500</td>\n      <td>...</td>\n      <td>6.659302</td>\n      <td>108.718020</td>\n      <td>4.090500</td>\n      <td>8.774430</td>\n      <td>9.345135</td>\n      <td>0.754802</td>\n      <td>182.306160</td>\n      <td>0.967700</td>\n      <td>29.847498</td>\n      <td>30.069874</td>\n    </tr>\n    <tr>\n      <td>1</td>\n      <td>8875</td>\n      <td>2020-01-02</td>\n      <td>1.431802</td>\n      <td>0.895185</td>\n      <td>1.492690</td>\n      <td>4.024897</td>\n      <td>1.298550</td>\n      <td>6.964402</td>\n      <td>7.788550</td>\n      <td>71.425001</td>\n      <td>...</td>\n      <td>6.689505</td>\n      <td>108.545496</td>\n      <td>4.087501</td>\n      <td>8.793901</td>\n      <td>9.365900</td>\n      <td>0.760399</td>\n      <td>181.405390</td>\n      <td>0.971400</td>\n      <td>29.905025</td>\n      <td>30.149863</td>\n    </tr>\n    <tr>\n      <td>2</td>\n      <td>8876</td>\n      <td>2020-01-03</td>\n      <td>1.438963</td>\n      <td>0.896057</td>\n      <td>1.500600</td>\n      <td>4.066804</td>\n      <td>1.299025</td>\n      <td>6.965504</td>\n      <td>7.779265</td>\n      <td>71.761040</td>\n      <td>...</td>\n      <td>6.697804</td>\n      <td>108.085040</td>\n      <td>4.102504</td>\n      <td>8.831035</td>\n      <td>9.399325</td>\n      <td>0.764497</td>\n      <td>181.401604</td>\n      <td>0.972302</td>\n      <td>30.050368</td>\n      <td>30.177504</td>\n    </tr>\n    <tr>\n      <td>3</td>\n      <td>8877</td>\n      <td>2020-01-04</td>\n      <td>1.438963</td>\n      <td>0.896098</td>\n      <td>1.500600</td>\n      <td>4.066804</td>\n      <td>1.299025</td>\n      <td>6.965504</td>\n      <td>7.779265</td>\n      <td>71.761040</td>\n      <td>...</td>\n      <td>6.697804</td>\n      <td>108.085040</td>\n      <td>4.102504</td>\n      <td>8.831035</td>\n      <td>9.399325</td>\n      <td>0.764088</td>\n      <td>181.401604</td>\n      <td>0.972302</td>\n      <td>30.050368</td>\n      <td>30.177504</td>\n    </tr>\n    <tr>\n      <td>4</td>\n      <td>8878</td>\n      <td>2020-01-05</td>\n      <td>1.440125</td>\n      <td>0.895930</td>\n      <td>1.502765</td>\n      <td>4.057198</td>\n      <td>1.298860</td>\n      <td>6.965499</td>\n      <td>7.781750</td>\n      <td>71.761023</td>\n      <td>...</td>\n      <td>6.695595</td>\n      <td>107.967983</td>\n      <td>4.102496</td>\n      <td>8.838230</td>\n      <td>9.411839</td>\n      <td>0.764575</td>\n      <td>181.401600</td>\n      <td>0.971530</td>\n      <td>30.049495</td>\n      <td>30.157024</td>\n    </tr>\n  </tbody>\n</table>\n<p>5 rows × 24 columns</p>\n</div>",
      "text/plain": "     id        Date       AUD       EUR       NZD       BRL       CAD  \\\n0  8874  2020-01-01  1.424690  0.891401  1.484530  4.019699  1.297550   \n1  8875  2020-01-02  1.431802  0.895185  1.492690  4.024897  1.298550   \n2  8876  2020-01-03  1.438963  0.896057  1.500600  4.066804  1.299025   \n3  8877  2020-01-04  1.438963  0.896098  1.500600  4.066804  1.299025   \n4  8878  2020-01-05  1.440125  0.895930  1.502765  4.057198  1.298860   \n\n        CNY       HKD        INR  ...       DKK         JPY       MYR  \\\n0  6.963200  7.792750  71.131500  ...  6.659302  108.718020  4.090500   \n1  6.964402  7.788550  71.425001  ...  6.689505  108.545496  4.087501   \n2  6.965504  7.779265  71.761040  ...  6.697804  108.085040  4.102504   \n3  6.965504  7.779265  71.761040  ...  6.697804  108.085040  4.102504   \n4  6.965499  7.781750  71.761023  ...  6.695595  107.967983  4.102496   \n\n        NOK       SEK       GBP         LKR       CHF        TWD        THB  \n0  8.774430  9.345135  0.754802  182.306160  0.967700  29.847498  30.069874  \n1  8.793901  9.365900  0.760399  181.405390  0.971400  29.905025  30.149863  \n2  8.831035  9.399325  0.764497  181.401604  0.972302  30.050368  30.177504  \n3  8.831035  9.399325  0.764088  181.401604  0.972302  30.050368  30.177504  \n4  8.838230  9.411839  0.764575  181.401600  0.971530  30.049495  30.157024  \n\n[5 rows x 24 columns]"
     },
     "execution_count": 30,
     "metadata": {},
     "output_type": "execute_result"
    }
   ],
   "source": [
    "forexcurrent_file = \"../Resources/2020_forex.csv\"\n",
    "forex_current_df = pd.read_csv(forexcurrent_file)\n",
    "forex_current_df.head()"
   ]
  },
  {
   "cell_type": "code",
   "execution_count": 31,
   "metadata": {},
   "outputs": [],
   "source": [
    "# Create database connection\n",
    "connection_string = \"postgres:postgres@localhost:5432/forex_db\"\n",
    "engine = create_engine(f'postgresql://{connection_string}')"
   ]
  },
  {
   "cell_type": "code",
   "execution_count": 32,
   "metadata": {},
   "outputs": [
    {
     "data": {
      "text/plain": "['forexhistoric', 'forexcurrent']"
     },
     "execution_count": 32,
     "metadata": {},
     "output_type": "execute_result"
    }
   ],
   "source": [
    "# Confirm tables\n",
    "engine.table_names()"
   ]
  },
  {
   "cell_type": "code",
   "execution_count": 33,
   "metadata": {},
   "outputs": [],
   "source": [
    "#Load DataFrames into database\n",
    "forex_historic_df.to_sql(name='forexhistoric', con=engine, if_exists='append', index=False)"
   ]
  },
  {
   "cell_type": "code",
   "execution_count": 35,
   "metadata": {},
   "outputs": [],
   "source": [
    "forex_current_df.to_sql(name='forexcurrent', con=engine, if_exists='append', index=False)"
   ]
  },
  {
   "cell_type": "code",
   "execution_count": null,
   "metadata": {},
   "outputs": [],
   "source": []
  }
 ]
}