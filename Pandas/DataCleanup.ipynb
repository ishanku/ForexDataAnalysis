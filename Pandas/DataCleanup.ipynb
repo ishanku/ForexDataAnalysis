{
 "cells": [
  {
   "cell_type": "code",
   "execution_count": 1,
   "metadata": {},
   "outputs": [],
   "source": [
    "import pandas as pd"
   ]
  },
  {
   "cell_type": "code",
   "execution_count": 2,
   "metadata": {},
   "outputs": [],
   "source": [
    "forex_historical=pd.read_csv('../Resources/forex_historical.csv')"
   ]
  },
  {
   "cell_type": "code",
   "execution_count": 3,
   "metadata": {},
   "outputs": [
    {
     "data": {
      "text/html": [
       "<div>\n",
       "<style scoped>\n",
       "    .dataframe tbody tr th:only-of-type {\n",
       "        vertical-align: middle;\n",
       "    }\n",
       "\n",
       "    .dataframe tbody tr th {\n",
       "        vertical-align: top;\n",
       "    }\n",
       "\n",
       "    .dataframe thead th {\n",
       "        text-align: right;\n",
       "    }\n",
       "</style>\n",
       "<table border=\"1\" class=\"dataframe\">\n",
       "  <thead>\n",
       "    <tr style=\"text-align: right;\">\n",
       "      <th></th>\n",
       "      <th>id</th>\n",
       "      <th>Date</th>\n",
       "      <th>AUD</th>\n",
       "      <th>EUR</th>\n",
       "      <th>NZD</th>\n",
       "      <th>GBP</th>\n",
       "      <th>BRL</th>\n",
       "      <th>CAD</th>\n",
       "      <th>CNY</th>\n",
       "      <th>HKD</th>\n",
       "      <th>...</th>\n",
       "      <th>SGD</th>\n",
       "      <th>DKK</th>\n",
       "      <th>JPY</th>\n",
       "      <th>MYR</th>\n",
       "      <th>NOK</th>\n",
       "      <th>SEK</th>\n",
       "      <th>LKR</th>\n",
       "      <th>CHF</th>\n",
       "      <th>TWD</th>\n",
       "      <th>THB</th>\n",
       "    </tr>\n",
       "  </thead>\n",
       "  <tbody>\n",
       "    <tr>\n",
       "      <th>0</th>\n",
       "      <td>0</td>\n",
       "      <td>2000-01-03</td>\n",
       "      <td>1.5172</td>\n",
       "      <td>0.9847</td>\n",
       "      <td>1.9033</td>\n",
       "      <td>0.6146</td>\n",
       "      <td>1.8050</td>\n",
       "      <td>1.4465</td>\n",
       "      <td>8.2798</td>\n",
       "      <td>7.7765</td>\n",
       "      <td>...</td>\n",
       "      <td>1.6563</td>\n",
       "      <td>7.3290</td>\n",
       "      <td>101.70</td>\n",
       "      <td>3.8</td>\n",
       "      <td>7.964</td>\n",
       "      <td>8.4430</td>\n",
       "      <td>72.30</td>\n",
       "      <td>1.5808</td>\n",
       "      <td>31.38</td>\n",
       "      <td>36.97</td>\n",
       "    </tr>\n",
       "    <tr>\n",
       "      <th>1</th>\n",
       "      <td>1</td>\n",
       "      <td>2000-01-04</td>\n",
       "      <td>1.5239</td>\n",
       "      <td>0.9700</td>\n",
       "      <td>1.9238</td>\n",
       "      <td>0.6109</td>\n",
       "      <td>1.8405</td>\n",
       "      <td>1.4518</td>\n",
       "      <td>8.2799</td>\n",
       "      <td>7.7775</td>\n",
       "      <td>...</td>\n",
       "      <td>1.6535</td>\n",
       "      <td>7.2180</td>\n",
       "      <td>103.09</td>\n",
       "      <td>3.8</td>\n",
       "      <td>7.934</td>\n",
       "      <td>8.3600</td>\n",
       "      <td>72.65</td>\n",
       "      <td>1.5565</td>\n",
       "      <td>30.6</td>\n",
       "      <td>37.13</td>\n",
       "    </tr>\n",
       "    <tr>\n",
       "      <th>2</th>\n",
       "      <td>2</td>\n",
       "      <td>2000-01-05</td>\n",
       "      <td>1.5267</td>\n",
       "      <td>0.9676</td>\n",
       "      <td>1.9339</td>\n",
       "      <td>0.6092</td>\n",
       "      <td>1.8560</td>\n",
       "      <td>1.4518</td>\n",
       "      <td>8.2798</td>\n",
       "      <td>7.7780</td>\n",
       "      <td>...</td>\n",
       "      <td>1.6560</td>\n",
       "      <td>7.2080</td>\n",
       "      <td>103.77</td>\n",
       "      <td>3.8</td>\n",
       "      <td>7.935</td>\n",
       "      <td>8.3530</td>\n",
       "      <td>72.95</td>\n",
       "      <td>1.5526</td>\n",
       "      <td>30.8</td>\n",
       "      <td>37.10</td>\n",
       "    </tr>\n",
       "    <tr>\n",
       "      <th>3</th>\n",
       "      <td>3</td>\n",
       "      <td>2000-01-06</td>\n",
       "      <td>1.5291</td>\n",
       "      <td>0.9686</td>\n",
       "      <td>1.9436</td>\n",
       "      <td>0.6070</td>\n",
       "      <td>1.8400</td>\n",
       "      <td>1.4571</td>\n",
       "      <td>8.2797</td>\n",
       "      <td>7.7785</td>\n",
       "      <td>...</td>\n",
       "      <td>1.6655</td>\n",
       "      <td>7.2125</td>\n",
       "      <td>105.19</td>\n",
       "      <td>3.8</td>\n",
       "      <td>7.940</td>\n",
       "      <td>8.3675</td>\n",
       "      <td>72.95</td>\n",
       "      <td>1.5540</td>\n",
       "      <td>31.75</td>\n",
       "      <td>37.62</td>\n",
       "    </tr>\n",
       "    <tr>\n",
       "      <th>4</th>\n",
       "      <td>4</td>\n",
       "      <td>2000-01-07</td>\n",
       "      <td>1.5272</td>\n",
       "      <td>0.9714</td>\n",
       "      <td>1.9380</td>\n",
       "      <td>0.6104</td>\n",
       "      <td>1.8310</td>\n",
       "      <td>1.4505</td>\n",
       "      <td>8.2794</td>\n",
       "      <td>7.7783</td>\n",
       "      <td>...</td>\n",
       "      <td>1.6625</td>\n",
       "      <td>7.2285</td>\n",
       "      <td>105.17</td>\n",
       "      <td>3.8</td>\n",
       "      <td>7.966</td>\n",
       "      <td>8.4150</td>\n",
       "      <td>73.15</td>\n",
       "      <td>1.5623</td>\n",
       "      <td>30.85</td>\n",
       "      <td>37.30</td>\n",
       "    </tr>\n",
       "  </tbody>\n",
       "</table>\n",
       "<p>5 rows × 24 columns</p>\n",
       "</div>"
      ],
      "text/plain": [
       "   id        Date     AUD     EUR     NZD     GBP     BRL     CAD     CNY  \\\n",
       "0   0  2000-01-03  1.5172  0.9847  1.9033  0.6146  1.8050  1.4465  8.2798   \n",
       "1   1  2000-01-04  1.5239  0.9700  1.9238  0.6109  1.8405  1.4518  8.2799   \n",
       "2   2  2000-01-05  1.5267  0.9676  1.9339  0.6092  1.8560  1.4518  8.2798   \n",
       "3   3  2000-01-06  1.5291  0.9686  1.9436  0.6070  1.8400  1.4571  8.2797   \n",
       "4   4  2000-01-07  1.5272  0.9714  1.9380  0.6104  1.8310  1.4505  8.2794   \n",
       "\n",
       "      HKD  ...     SGD     DKK     JPY  MYR    NOK     SEK    LKR     CHF  \\\n",
       "0  7.7765  ...  1.6563  7.3290  101.70  3.8  7.964  8.4430  72.30  1.5808   \n",
       "1  7.7775  ...  1.6535  7.2180  103.09  3.8  7.934  8.3600  72.65  1.5565   \n",
       "2  7.7780  ...  1.6560  7.2080  103.77  3.8  7.935  8.3530  72.95  1.5526   \n",
       "3  7.7785  ...  1.6655  7.2125  105.19  3.8  7.940  8.3675  72.95  1.5540   \n",
       "4  7.7783  ...  1.6625  7.2285  105.17  3.8  7.966  8.4150  73.15  1.5623   \n",
       "\n",
       "     TWD    THB  \n",
       "0  31.38  36.97  \n",
       "1   30.6  37.13  \n",
       "2   30.8  37.10  \n",
       "3  31.75  37.62  \n",
       "4  30.85  37.30  \n",
       "\n",
       "[5 rows x 24 columns]"
      ]
     },
     "execution_count": 3,
     "metadata": {},
     "output_type": "execute_result"
    }
   ],
   "source": [
    "forex_historical.head()"
   ]
  },
  {
   "cell_type": "code",
   "execution_count": 6,
   "metadata": {},
   "outputs": [
    {
     "data": {
      "text/plain": [
       "Index(['id', 'Date', 'AUD', 'EUR', 'NZD', 'GBP', 'BRL', 'CAD', 'CNY', 'HKD',\n",
       "       'INR', 'KRW', 'MXN', 'ZAR', 'SGD', 'DKK', 'JPY', 'MYR', 'NOK', 'SEK',\n",
       "       'LKR', 'CHF', 'TWD', 'THB'],\n",
       "      dtype='object')"
      ]
     },
     "execution_count": 6,
     "metadata": {},
     "output_type": "execute_result"
    }
   ],
   "source": [
    "forex_historical.columns"
   ]
  },
  {
   "cell_type": "code",
   "execution_count": 7,
   "metadata": {},
   "outputs": [
    {
     "name": "stderr",
     "output_type": "stream",
     "text": [
      "/Users/rajarajen/opt/anaconda3/envs/PythonData/lib/python3.7/site-packages/pandas/core/ops/array_ops.py:253: FutureWarning: elementwise comparison failed; returning scalar instead, but in the future will perform elementwise comparison\n",
      "  res_values = method(rvalues)\n"
     ]
    }
   ],
   "source": [
    "forex_historical=forex_historical[forex_historical.AUD != 'ND']\n",
    "forex_historical=forex_historical[forex_historical.EUR != 'ND']\n",
    "forex_historical=forex_historical[forex_historical.AUD != 'ND']\n",
    "forex_historical=forex_historical[forex_historical.NZD != 'ND']\n",
    "forex_historical=forex_historical[forex_historical.GBP != 'ND']\n",
    "forex_historical=forex_historical[forex_historical.BRL != 'ND']\n",
    "forex_historical=forex_historical[forex_historical.CAD != 'ND']\n",
    "forex_historical=forex_historical[forex_historical.CNY != 'ND']\n",
    "forex_historical=forex_historical[forex_historical.HKD != 'ND']\n",
    "forex_historical=forex_historical[forex_historical.INR != 'ND']\n",
    "forex_historical=forex_historical[forex_historical.KRW != 'ND']\n",
    "forex_historical=forex_historical[forex_historical.MXN != 'ND']\n",
    "forex_historical=forex_historical[forex_historical.ZAR != 'ND']\n",
    "forex_historical=forex_historical[forex_historical.SGD != 'ND']\n",
    "forex_historical=forex_historical[forex_historical.DKK != 'ND']\n",
    "forex_historical=forex_historical[forex_historical.JPY != 'ND']\n",
    "forex_historical=forex_historical[forex_historical.MYR != 'ND']\n",
    "forex_historical=forex_historical[forex_historical.NOK != 'ND']\n",
    "forex_historical=forex_historical[forex_historical.SEK != 'ND']\n",
    "forex_historical=forex_historical[forex_historical.LKR != 'ND']\n",
    "forex_historical=forex_historical[forex_historical.CHF != 'ND']\n",
    "forex_historical=forex_historical[forex_historical.TWD != 'ND']\n",
    "forex_historical=forex_historical[forex_historical.THB != 'ND']"
   ]
  },
  {
   "cell_type": "code",
   "execution_count": 8,
   "metadata": {},
   "outputs": [
    {
     "data": {
      "text/plain": [
       "5015"
      ]
     },
     "execution_count": 8,
     "metadata": {},
     "output_type": "execute_result"
    }
   ],
   "source": [
    "len(forex_historical)"
   ]
  },
  {
   "cell_type": "code",
   "execution_count": 9,
   "metadata": {},
   "outputs": [],
   "source": [
    "forex_historical.to_csv('../Resources/forexhistorical.csv',header=True)"
   ]
  },
  {
   "cell_type": "code",
   "execution_count": null,
   "metadata": {},
   "outputs": [],
   "source": []
  }
 ],
 "metadata": {
  "kernelspec": {
   "display_name": "Python 3",
   "language": "python",
   "name": "python3"
  },
  "language_info": {
   "codemirror_mode": {
    "name": "ipython",
    "version": 3
   },
   "file_extension": ".py",
   "mimetype": "text/x-python",
   "name": "python",
   "nbconvert_exporter": "python",
   "pygments_lexer": "ipython3",
   "version": "3.7.6"
  }
 },
 "nbformat": 4,
 "nbformat_minor": 4
}
